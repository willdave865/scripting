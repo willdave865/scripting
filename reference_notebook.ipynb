{
  "nbformat": 4,
  "nbformat_minor": 0,
  "metadata": {
    "colab": {
      "name": "reference_notebook.ipynb",
      "provenance": [],
      "authorship_tag": "ABX9TyNyidR8WoYWAMb0Qi8FE+TI",
      "include_colab_link": true
    },
    "kernelspec": {
      "name": "python3",
      "display_name": "Python 3"
    },
    "language_info": {
      "name": "python"
    }
  },
  "cells": [
    {
      "cell_type": "markdown",
      "metadata": {
        "id": "view-in-github",
        "colab_type": "text"
      },
      "source": [
        "<a href=\"https://colab.research.google.com/github/willdave865/scripting/blob/main/reference_notebook.ipynb\" target=\"_parent\"><img src=\"https://colab.research.google.com/assets/colab-badge.svg\" alt=\"Open In Colab\"/></a>"
      ]
    },
    {
      "cell_type": "markdown",
      "metadata": {
        "id": "FkAmb63umWQj"
      },
      "source": [
        "**This notebook is a reference for transferring files between drive & cloud. Access via nix command line \n",
        "tools will allow for quick counting, compares and other tasks through ls cp dif & other commands.**\n",
        "\n",
        "Note: For Github copy of this notebook - numbering of notes is not preseved."
      ]
    },
    {
      "cell_type": "markdown",
      "metadata": {
        "id": "6Gy-Tf7WhnRf"
      },
      "source": [
        "1. Mount from colab files panel or use this command"
      ]
    },
    {
      "cell_type": "code",
      "metadata": {
        "colab": {
          "base_uri": "https://localhost:8080/"
        },
        "id": "OM1_KNKifQcY",
        "outputId": "32ee721d-6f8b-4381-f198-290ae883fab8"
      },
      "source": [
        "from google.colab import drive\n",
        "drive.mount(\"/content/drive\")"
      ],
      "execution_count": 1,
      "outputs": [
        {
          "output_type": "stream",
          "text": [
            "Mounted at /content/drive\n"
          ],
          "name": "stdout"
        }
      ]
    },
    {
      "cell_type": "markdown",
      "metadata": {
        "id": "nV7VV55rhYPS"
      },
      "source": [
        "Note /content/ does not show in files path panel"
      ]
    },
    {
      "cell_type": "markdown",
      "metadata": {
        "id": "ICmRKbR9dVZx"
      },
      "source": [
        "2. Gain authorisation to use my google project ID"
      ]
    },
    {
      "cell_type": "code",
      "metadata": {
        "colab": {
          "base_uri": "https://localhost:8080/"
        },
        "id": "wXqIyM8RE87V",
        "outputId": "d91370f2-b3d2-4faa-f0fb-035014d61be1"
      },
      "source": [
        "from google.colab import auth\n",
        "auth.authenticate_user()\n",
        "project_id = 'colab-drive-cloud'\n",
        "!gcloud config set project {project_id}\n",
        "!gsutil ls"
      ],
      "execution_count": 2,
      "outputs": [
        {
          "output_type": "stream",
          "text": [
            "Updated property [core/project].\n",
            "gs://davesdatatransfer/\n"
          ],
          "name": "stdout"
        }
      ]
    },
    {
      "cell_type": "markdown",
      "metadata": {
        "id": "DYEogOECdv3P"
      },
      "source": [
        "3. Set project ID before able to use bucket"
      ]
    },
    {
      "cell_type": "code",
      "metadata": {
        "colab": {
          "base_uri": "https://localhost:8080/"
        },
        "id": "0s_8YpEMdhO2",
        "outputId": "77173b85-8019-4315-aab9-0bd59df9a5be"
      },
      "source": [
        "project_id = 'colab-drive-cloud'\n",
        "!gcloud config set project {project_id}\n",
        "!gsutil ls\n"
      ],
      "execution_count": 3,
      "outputs": [
        {
          "output_type": "stream",
          "text": [
            "Updated property [core/project].\n",
            "gs://davesdatatransfer/\n"
          ],
          "name": "stdout"
        }
      ]
    },
    {
      "cell_type": "markdown",
      "metadata": {
        "id": "ITRpPOTeiZcj"
      },
      "source": [
        "4. Confirm paths to Google Docs using !ls only\n"
      ]
    },
    {
      "cell_type": "code",
      "metadata": {
        "id": "GIb1unmEfLNP"
      },
      "source": [
        "!ls /content/drive/MyDrive/*"
      ],
      "execution_count": null,
      "outputs": []
    },
    {
      "cell_type": "markdown",
      "metadata": {
        "id": "gsDd13gihJvG"
      },
      "source": [
        "'/content/drive/MyDrive/Book Spreadsheet.gsheet'\n",
        "'/content/drive/MyDrive/Copy of 31832_226292__0007-00079.jpg'\n",
        "'/content/drive/MyDrive/Copy of 31832_226292__0007-00080.jpg'\n",
        "'/content/drive/MyDrive/Copy of 31832_226292__0007-00081.jpg'\n",
        " /content/drive/MyDrive/DSC03442.JPG\n",
        "'/content/drive/MyDrive/My 2020 Project Calendar.ods'\n",
        "\n",
        "etc"
      ]
    },
    {
      "cell_type": "markdown",
      "metadata": {
        "id": "KvYjcpZIisza"
      },
      "source": [
        "5. Confirm connection to bucket by copying file from MyDrive"
      ]
    },
    {
      "cell_type": "code",
      "metadata": {
        "colab": {
          "base_uri": "https://localhost:8080/"
        },
        "id": "1UckaDtvijdc",
        "outputId": "e6719fbc-6176-4239-eb32-f18793ba7ed8"
      },
      "source": [
        "!gsutil cp -r /content/drive/MyDrive/text_file.txt gs://davesdatatransfer"
      ],
      "execution_count": 9,
      "outputs": [
        {
          "output_type": "stream",
          "text": [
            "Copying file:///content/drive/MyDrive/text_file.txt [Content-Type=text/plain]...\n",
            "-\n",
            "Operation completed over 1 objects/18.0 B.                                       \n"
          ],
          "name": "stdout"
        }
      ]
    },
    {
      "cell_type": "code",
      "metadata": {
        "colab": {
          "base_uri": "https://localhost:8080/"
        },
        "id": "GD13fmD9jpGr",
        "outputId": "f209985a-f51b-4bc5-dc45-d74a65876386"
      },
      "source": [
        "!gsutil ls gs://davesdatatransfer"
      ],
      "execution_count": 10,
      "outputs": [
        {
          "output_type": "stream",
          "text": [
            "gs://davesdatatransfer/Set_Up1.png\n",
            "gs://davesdatatransfer/colab problem1.png\n",
            "gs://davesdatatransfer/colab_steps.txt\n",
            "gs://davesdatatransfer/foo.txt\n",
            "gs://davesdatatransfer/foo_in_source.txt\n",
            "gs://davesdatatransfer/text_file.txt\n"
          ],
          "name": "stdout"
        }
      ]
    },
    {
      "cell_type": "markdown",
      "metadata": {
        "id": "S5W28ogpptjS"
      },
      "source": [
        "**# Note various problems can occur. See example below. Believe it or not I expected this to work.**\n",
        "- Use exclamation before gsutil\n",
        "- don't be fooled by NOT seeing \"content\" in colab file path (try copy path)\n",
        "- note: No use of single or double quotations in path"
      ]
    },
    {
      "cell_type": "code",
      "metadata": {
        "colab": {
          "base_uri": "https://localhost:8080/"
        },
        "id": "2ZqBxNrAeNBB",
        "outputId": "a805959a-afa8-4532-b078-1e82a671e22c"
      },
      "source": [
        "ls /drive/MyDrive/My Docs/*"
      ],
      "execution_count": 12,
      "outputs": [
        {
          "output_type": "stream",
          "text": [
            "ls: cannot access '/drive/MyDrive/My': No such file or directory\n",
            "ls: cannot access 'Docs/*': No such file or directory\n"
          ],
          "name": "stdout"
        }
      ]
    },
    {
      "cell_type": "markdown",
      "metadata": {
        "id": "0y-q2qvNtjrT"
      },
      "source": [
        "Only use nix commands for Drive. Not gsutil (Google Storage/Cloud utility) not intended for file examination/manipulation on Drive - except of course cp command. **Special note: Copy file path from colab files panel to command line.** "
      ]
    },
    {
      "cell_type": "code",
      "metadata": {
        "id": "UW-MGCtesJRu"
      },
      "source": [
        "!ls /content/drive/MyDrive/My\\ Docs/*"
      ],
      "execution_count": null,
      "outputs": []
    },
    {
      "cell_type": "markdown",
      "metadata": {
        "id": "elsTgDrpyWJt"
      },
      "source": [
        "This worked spitting out more detail than I want to show here!"
      ]
    }
  ]
}